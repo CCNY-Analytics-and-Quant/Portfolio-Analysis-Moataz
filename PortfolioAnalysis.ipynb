{
 "cells": [
  {
   "cell_type": "code",
   "execution_count": 56,
   "id": "c00608e8",
   "metadata": {},
   "outputs": [],
   "source": [
    "import yfinance as yf # For loading financial datasets\n",
    "import pandas as pd # For creating tables and dataframes\n",
    "import math \n",
    "import numpy as np\n",
    "\n",
    "stocks = [\"AAPL\", \"AMZN\", \"MSFT\", \"NFLX\", \"GOOG\", \"TSLA\", \"GME\"] # 7 stocks needed for the first table"
   ]
  },
  {
   "cell_type": "code",
   "execution_count": 57,
   "id": "9f4792b1",
   "metadata": {},
   "outputs": [],
   "source": [
    "weight = 1 / 7 # This will be the portfolio weight for each ticker \n",
    "portfolio_weight = [weight]*7"
   ]
  },
  {
   "cell_type": "code",
   "execution_count": 65,
   "id": "e55f5730",
   "metadata": {},
   "outputs": [],
   "source": [
    "def get_annualized_volatility(stocks):\n",
    "    dataframe = yf.download(f\"{stocks}\")\n",
    "    dataframe_resampled = dataframe.resample('3M').asfreq() #Resample data from daily to every 3-months\n",
    "    dataframe[\"pct_change\"] = dataframe[\"Adj Close\"].pct_change() #Calculate returns for every 3-months\n",
    "    dataframe.dropna(inplace=True) #Drop any NaN values (Must drop!)\n",
    "    annualized_volatility = dataframe[\"pct_change\"].std() * math.sqrt(4)\n",
    "    return annualized_volatility"
   ]
  },
  {
   "cell_type": "code",
   "execution_count": 66,
   "id": "23fa0dee",
   "metadata": {},
   "outputs": [
    {
     "name": "stdout",
     "output_type": "stream",
     "text": [
      "[*********************100%***********************]  1 of 1 completed\n"
     ]
    },
    {
     "data": {
      "text/plain": [
       "0.05647999655985575"
      ]
     },
     "execution_count": 66,
     "metadata": {},
     "output_type": "execute_result"
    }
   ],
   "source": [
    "get_annualized_volatility(\"AAPL\")"
   ]
  },
  {
   "cell_type": "code",
   "execution_count": 60,
   "id": "e3600f13",
   "metadata": {},
   "outputs": [],
   "source": [
    "def beta_against_market(ticker, market):\n",
    "    dataframe = yf.download(f\"{ticker} {market}\")[\"Adj Close\"]\n",
    "    dataframe.dropna(inplace=True)\n",
    "    dataframe_resampled = dataframe.resample(\"12M\").sum() # Resample data to use trailing 12-months\n",
    "    covariance = dataframe_resampled.cov().iloc[0, 1] # left of the comma is for row selection [row, column]\n",
    "    beta = covariance / dataframe_resampled[market].var()\n",
    "    return beta"
   ]
  },
  {
   "cell_type": "code",
   "execution_count": 61,
   "id": "ea3cea63",
   "metadata": {},
   "outputs": [],
   "source": [
    "def get_weekly_drawdowns(dataframe):\n",
    "    weekly_drawdowns = []\n",
    "    weekly_resample = dataframe.resample(\"5D\").asfreq()[\"Adj Close\"] #resample for weekly data (5 trading days per week)\n",
    "    weekly_resample.dropna(inplace=True)\n",
    "    weekly_resample_array = np.array(weekly_resample)\n",
    "    for i in range(0, len(weekly_resample_array)-52, 52): # Breakdown dataset into 52 weeks to find max and minimum during the 52-week period\n",
    "        high = np.max(weekly_resample_array[i:i+52])\n",
    "        low = np.min(weekly_resample_array[i:i+52])\n",
    "        calc = (low - high) / high\n",
    "        weekly_drawdowns.append(calc)\n",
    "    average_weekly_drawdowns = sum(weekly_drawdowns) / len(weekly_drawdowns)\n",
    "    maximum_weekly_drawdown = max(weekly_drawdowns)\n",
    "    return average_weekly_drawdowns, maximum_weekly_drawdown"
   ]
  },
  {
   "cell_type": "code",
   "execution_count": 62,
   "id": "607b77bf",
   "metadata": {},
   "outputs": [],
   "source": [
    "def get_total_return(dataframe):\n",
    "    #.iloc[-1] get last row and .iloc[0] get first row of Adj Close \n",
    "    #Formula for Total_Return = New_Stock_price - Current_Stock_Price / Current_Stock_Price\n",
    "    total_return = (dataframe[\"Adj Close\"].iloc[-1] - dataframe[\"Adj Close\"].iloc[0]) / (dataframe[\"Adj Close\"].iloc[0])\n",
    "    return f\"{total_return*100}%\""
   ]
  },
  {
   "cell_type": "code",
   "execution_count": 67,
   "id": "df4b658a",
   "metadata": {},
   "outputs": [],
   "source": [
    "def get_total_annualized_return(dataframe):\n",
    "    resampled_data = dataframe.resample(\"10Y\").asfreq()[\"Adj Close\"]\n",
    "    resampled_data.dropna(inplace=True)\n",
    "    total_annualized_return = (resampled_data.iloc[-1] - resampled_data.iloc[0]) / resampled_data.iloc[0]\n",
    "    return f\"{total_annualized_return * 100}%\""
   ]
  },
  {
   "cell_type": "code",
   "execution_count": 70,
   "id": "8db4ad40",
   "metadata": {},
   "outputs": [
    {
     "name": "stdout",
     "output_type": "stream",
     "text": [
      "[*********************100%***********************]  1 of 1 completed\n",
      "[*********************100%***********************]  69 of 69 completed\n",
      "\n",
      "64 Failed downloads:\n",
      "- 0.116071: No timezone found, symbol may be delisted\n",
      "- 0.122210: No timezone found, symbol may be delisted\n",
      "- 153.470001: No timezone found, symbol may be delisted\n",
      "- 154.539993: No timezone found, symbol may be delisted\n",
      "- 151.130005: No timezone found, symbol may be delisted\n",
      "- 0.094519: No timezone found, symbol may be delisted\n",
      "- 0.121652: No timezone found, symbol may be delisted\n",
      "- 469033600: No timezone found, symbol may be delisted\n",
      "- 150.589996: No timezone found, symbol may be delisted\n",
      "- 175884800: No timezone found, symbol may be delisted\n",
      "- ROWS: No timezone found, symbol may be delisted\n",
      "- 153.699997: No timezone found, symbol may be delisted\n",
      "- [10650: No timezone found, symbol may be delisted\n",
      "- 1980-12-12: No timezone found, symbol may be delisted\n",
      "- 0.119420: No timezone found, symbol may be delisted\n",
      "- 1980-12-15: No timezone found, symbol may be delisted\n",
      "- VOLUME: No timezone found, symbol may be delisted\n",
      "- ...: No timezone found, symbol may be delisted\n",
      "- 73449600: No timezone found, symbol may be delisted\n",
      "- DATE: 1d data not available for startTime=-2208994789 and endTime=1678678849. Only 100 years worth of day granularity data are allowed to be fetched per request.\n",
      "- 0.128348: No timezone found, symbol may be delisted\n",
      "- 147.610001: No timezone found, symbol may be delisted\n",
      "- 156.300003: No timezone found, symbol may be delisted\n",
      "- 0.112723: No timezone found, symbol may be delisted\n",
      "- 150.940002: No timezone found, symbol may be delisted\n",
      "- 2023-03-07: No timezone found, symbol may be delisted\n",
      "- 0.092351: No timezone found, symbol may be delisted\n",
      "- 0.128906: No timezone found, symbol may be delisted\n",
      "- 0.118862: No timezone found, symbol may be delisted\n",
      "- 87558000: No timezone found, symbol may be delisted\n",
      "- 0.113281: No timezone found, symbol may be delisted\n",
      "- COLUMNS]: No timezone found, symbol may be delisted\n",
      "- 0.099722: No timezone found, symbol may be delisted\n",
      "- 153.789993: No timezone found, symbol may be delisted\n",
      "- 0.115513: No timezone found, symbol may be delisted\n",
      "- 56182000: No timezone found, symbol may be delisted\n",
      "- 0.089749: No timezone found, symbol may be delisted\n",
      "- 1980-12-16: No timezone found, symbol may be delisted\n",
      "- 47204800: No timezone found, symbol may be delisted\n",
      "- 152.869995: No timezone found, symbol may be delisted\n",
      "- \\: No timezone found, symbol may be delisted\n",
      "- 153.460007: No timezone found, symbol may be delisted\n",
      "- 2023-03-10: No timezone found, symbol may be delisted\n",
      "- 0.087581: No timezone found, symbol may be delisted\n",
      "- 152.809998: No timezone found, symbol may be delisted\n",
      "- 153.559998: No timezone found, symbol may be delisted\n",
      "- 151.600006: No timezone found, symbol may be delisted\n",
      "- 2023-03-06: No timezone found, symbol may be delisted\n",
      "- 151.830002: No timezone found, symbol may be delisted\n",
      "- 105728000: No timezone found, symbol may be delisted\n",
      "- 86441600: No timezone found, symbol may be delisted\n",
      "- 154.029999: No timezone found, symbol may be delisted\n",
      "- CLOSE: No timezone found, symbol may be delisted\n",
      "- 153.830002: No timezone found, symbol may be delisted\n",
      "- 6: No timezone found, symbol may be delisted\n",
      "- 1980-12-17: No timezone found, symbol may be delisted\n",
      "- 2023-03-09: No timezone found, symbol may be delisted\n",
      "- 150.229996: No timezone found, symbol may be delisted\n",
      "- 1980-12-18: No timezone found, symbol may be delisted\n",
      "- 2023-03-08: No timezone found, symbol may be delisted\n",
      "- 150.210007: No timezone found, symbol may be delisted\n",
      "- 53833600: No timezone found, symbol may be delisted\n",
      "- 68524400: No timezone found, symbol may be delisted\n",
      "- 148.500000: No timezone found, symbol may be delisted\n"
     ]
    },
    {
     "ename": "TypeError",
     "evalue": "Only valid with DatetimeIndex, TimedeltaIndex or PeriodIndex, but got an instance of 'Index'",
     "output_type": "error",
     "traceback": [
      "\u001b[0;31m---------------------------------------------------------------------------\u001b[0m",
      "\u001b[0;31mTypeError\u001b[0m                                 Traceback (most recent call last)",
      "Cell \u001b[0;32mIn[70], line 14\u001b[0m\n\u001b[1;32m     12\u001b[0m get_df \u001b[38;5;241m=\u001b[39m yf\u001b[38;5;241m.\u001b[39mdownload(\u001b[38;5;124mf\u001b[39m\u001b[38;5;124m\"\u001b[39m\u001b[38;5;132;01m{\u001b[39;00mstock\u001b[38;5;132;01m}\u001b[39;00m\u001b[38;5;124m\"\u001b[39m)\n\u001b[1;32m     13\u001b[0m tickers\u001b[38;5;241m.\u001b[39mappend(stock)\n\u001b[0;32m---> 14\u001b[0m annualized_volatility\u001b[38;5;241m.\u001b[39mappend(\u001b[43mget_annualized_volatility\u001b[49m\u001b[43m(\u001b[49m\u001b[43mget_df\u001b[49m\u001b[43m)\u001b[49m)\n\u001b[1;32m     15\u001b[0m beta_spy\u001b[38;5;241m.\u001b[39mappend(beta_against_market(stock, \u001b[38;5;124m\"\u001b[39m\u001b[38;5;124mSPY\u001b[39m\u001b[38;5;124m\"\u001b[39m))\n\u001b[1;32m     16\u001b[0m beta_iwm\u001b[38;5;241m.\u001b[39mappend(beta_against_market(stock, \u001b[38;5;124m\"\u001b[39m\u001b[38;5;124mIWM\u001b[39m\u001b[38;5;124m\"\u001b[39m))\n",
      "Cell \u001b[0;32mIn[65], line 3\u001b[0m, in \u001b[0;36mget_annualized_volatility\u001b[0;34m(stocks)\u001b[0m\n\u001b[1;32m      1\u001b[0m \u001b[38;5;28;01mdef\u001b[39;00m \u001b[38;5;21mget_annualized_volatility\u001b[39m(stocks):\n\u001b[1;32m      2\u001b[0m     dataframe \u001b[38;5;241m=\u001b[39m yf\u001b[38;5;241m.\u001b[39mdownload(\u001b[38;5;124mf\u001b[39m\u001b[38;5;124m\"\u001b[39m\u001b[38;5;132;01m{\u001b[39;00mstocks\u001b[38;5;132;01m}\u001b[39;00m\u001b[38;5;124m\"\u001b[39m)\n\u001b[0;32m----> 3\u001b[0m     dataframe_resampled \u001b[38;5;241m=\u001b[39m \u001b[43mdataframe\u001b[49m\u001b[38;5;241;43m.\u001b[39;49m\u001b[43mresample\u001b[49m\u001b[43m(\u001b[49m\u001b[38;5;124;43m'\u001b[39;49m\u001b[38;5;124;43m3M\u001b[39;49m\u001b[38;5;124;43m'\u001b[39;49m\u001b[43m)\u001b[49m\u001b[38;5;241m.\u001b[39masfreq() \u001b[38;5;66;03m#Resample data from daily to every 3-months\u001b[39;00m\n\u001b[1;32m      4\u001b[0m     dataframe[\u001b[38;5;124m\"\u001b[39m\u001b[38;5;124mpct_change\u001b[39m\u001b[38;5;124m\"\u001b[39m] \u001b[38;5;241m=\u001b[39m dataframe[\u001b[38;5;124m\"\u001b[39m\u001b[38;5;124mAdj Close\u001b[39m\u001b[38;5;124m\"\u001b[39m]\u001b[38;5;241m.\u001b[39mpct_change() \u001b[38;5;66;03m#Calculate returns for every 3-months\u001b[39;00m\n\u001b[1;32m      5\u001b[0m     dataframe\u001b[38;5;241m.\u001b[39mdropna(inplace\u001b[38;5;241m=\u001b[39m\u001b[38;5;28;01mTrue\u001b[39;00m) \u001b[38;5;66;03m#Drop any NaN values (Must drop!)\u001b[39;00m\n",
      "File \u001b[0;32m~/miniconda3/lib/python3.10/site-packages/pandas/core/frame.py:11392\u001b[0m, in \u001b[0;36mDataFrame.resample\u001b[0;34m(self, rule, axis, closed, label, convention, kind, loffset, base, on, level, origin, offset, group_keys)\u001b[0m\n\u001b[1;32m  11375\u001b[0m \u001b[38;5;129m@doc\u001b[39m(NDFrame\u001b[38;5;241m.\u001b[39mresample, \u001b[38;5;241m*\u001b[39m\u001b[38;5;241m*\u001b[39m_shared_doc_kwargs)\n\u001b[1;32m  11376\u001b[0m \u001b[38;5;28;01mdef\u001b[39;00m \u001b[38;5;21mresample\u001b[39m(\n\u001b[1;32m  11377\u001b[0m     \u001b[38;5;28mself\u001b[39m,\n\u001b[0;32m   (...)\u001b[0m\n\u001b[1;32m  11390\u001b[0m     group_keys: \u001b[38;5;28mbool\u001b[39m \u001b[38;5;241m|\u001b[39m lib\u001b[38;5;241m.\u001b[39mNoDefault \u001b[38;5;241m=\u001b[39m no_default,\n\u001b[1;32m  11391\u001b[0m ) \u001b[38;5;241m-\u001b[39m\u001b[38;5;241m>\u001b[39m Resampler:\n\u001b[0;32m> 11392\u001b[0m     \u001b[38;5;28;01mreturn\u001b[39;00m \u001b[38;5;28;43msuper\u001b[39;49m\u001b[43m(\u001b[49m\u001b[43m)\u001b[49m\u001b[38;5;241;43m.\u001b[39;49m\u001b[43mresample\u001b[49m\u001b[43m(\u001b[49m\n\u001b[1;32m  11393\u001b[0m \u001b[43m        \u001b[49m\u001b[43mrule\u001b[49m\u001b[38;5;241;43m=\u001b[39;49m\u001b[43mrule\u001b[49m\u001b[43m,\u001b[49m\n\u001b[1;32m  11394\u001b[0m \u001b[43m        \u001b[49m\u001b[43maxis\u001b[49m\u001b[38;5;241;43m=\u001b[39;49m\u001b[43maxis\u001b[49m\u001b[43m,\u001b[49m\n\u001b[1;32m  11395\u001b[0m \u001b[43m        \u001b[49m\u001b[43mclosed\u001b[49m\u001b[38;5;241;43m=\u001b[39;49m\u001b[43mclosed\u001b[49m\u001b[43m,\u001b[49m\n\u001b[1;32m  11396\u001b[0m \u001b[43m        \u001b[49m\u001b[43mlabel\u001b[49m\u001b[38;5;241;43m=\u001b[39;49m\u001b[43mlabel\u001b[49m\u001b[43m,\u001b[49m\n\u001b[1;32m  11397\u001b[0m \u001b[43m        \u001b[49m\u001b[43mconvention\u001b[49m\u001b[38;5;241;43m=\u001b[39;49m\u001b[43mconvention\u001b[49m\u001b[43m,\u001b[49m\n\u001b[1;32m  11398\u001b[0m \u001b[43m        \u001b[49m\u001b[43mkind\u001b[49m\u001b[38;5;241;43m=\u001b[39;49m\u001b[43mkind\u001b[49m\u001b[43m,\u001b[49m\n\u001b[1;32m  11399\u001b[0m \u001b[43m        \u001b[49m\u001b[43mloffset\u001b[49m\u001b[38;5;241;43m=\u001b[39;49m\u001b[43mloffset\u001b[49m\u001b[43m,\u001b[49m\n\u001b[1;32m  11400\u001b[0m \u001b[43m        \u001b[49m\u001b[43mbase\u001b[49m\u001b[38;5;241;43m=\u001b[39;49m\u001b[43mbase\u001b[49m\u001b[43m,\u001b[49m\n\u001b[1;32m  11401\u001b[0m \u001b[43m        \u001b[49m\u001b[43mon\u001b[49m\u001b[38;5;241;43m=\u001b[39;49m\u001b[43mon\u001b[49m\u001b[43m,\u001b[49m\n\u001b[1;32m  11402\u001b[0m \u001b[43m        \u001b[49m\u001b[43mlevel\u001b[49m\u001b[38;5;241;43m=\u001b[39;49m\u001b[43mlevel\u001b[49m\u001b[43m,\u001b[49m\n\u001b[1;32m  11403\u001b[0m \u001b[43m        \u001b[49m\u001b[43morigin\u001b[49m\u001b[38;5;241;43m=\u001b[39;49m\u001b[43morigin\u001b[49m\u001b[43m,\u001b[49m\n\u001b[1;32m  11404\u001b[0m \u001b[43m        \u001b[49m\u001b[43moffset\u001b[49m\u001b[38;5;241;43m=\u001b[39;49m\u001b[43moffset\u001b[49m\u001b[43m,\u001b[49m\n\u001b[1;32m  11405\u001b[0m \u001b[43m        \u001b[49m\u001b[43mgroup_keys\u001b[49m\u001b[38;5;241;43m=\u001b[39;49m\u001b[43mgroup_keys\u001b[49m\u001b[43m,\u001b[49m\n\u001b[1;32m  11406\u001b[0m \u001b[43m    \u001b[49m\u001b[43m)\u001b[49m\n",
      "File \u001b[0;32m~/miniconda3/lib/python3.10/site-packages/pandas/core/generic.py:8858\u001b[0m, in \u001b[0;36mNDFrame.resample\u001b[0;34m(self, rule, axis, closed, label, convention, kind, loffset, base, on, level, origin, offset, group_keys)\u001b[0m\n\u001b[1;32m   8855\u001b[0m \u001b[38;5;28;01mfrom\u001b[39;00m \u001b[38;5;21;01mpandas\u001b[39;00m\u001b[38;5;21;01m.\u001b[39;00m\u001b[38;5;21;01mcore\u001b[39;00m\u001b[38;5;21;01m.\u001b[39;00m\u001b[38;5;21;01mresample\u001b[39;00m \u001b[38;5;28;01mimport\u001b[39;00m get_resampler\n\u001b[1;32m   8857\u001b[0m axis \u001b[38;5;241m=\u001b[39m \u001b[38;5;28mself\u001b[39m\u001b[38;5;241m.\u001b[39m_get_axis_number(axis)\n\u001b[0;32m-> 8858\u001b[0m \u001b[38;5;28;01mreturn\u001b[39;00m \u001b[43mget_resampler\u001b[49m\u001b[43m(\u001b[49m\n\u001b[1;32m   8859\u001b[0m \u001b[43m    \u001b[49m\u001b[38;5;28;43mself\u001b[39;49m\u001b[43m,\u001b[49m\n\u001b[1;32m   8860\u001b[0m \u001b[43m    \u001b[49m\u001b[43mfreq\u001b[49m\u001b[38;5;241;43m=\u001b[39;49m\u001b[43mrule\u001b[49m\u001b[43m,\u001b[49m\n\u001b[1;32m   8861\u001b[0m \u001b[43m    \u001b[49m\u001b[43mlabel\u001b[49m\u001b[38;5;241;43m=\u001b[39;49m\u001b[43mlabel\u001b[49m\u001b[43m,\u001b[49m\n\u001b[1;32m   8862\u001b[0m \u001b[43m    \u001b[49m\u001b[43mclosed\u001b[49m\u001b[38;5;241;43m=\u001b[39;49m\u001b[43mclosed\u001b[49m\u001b[43m,\u001b[49m\n\u001b[1;32m   8863\u001b[0m \u001b[43m    \u001b[49m\u001b[43maxis\u001b[49m\u001b[38;5;241;43m=\u001b[39;49m\u001b[43maxis\u001b[49m\u001b[43m,\u001b[49m\n\u001b[1;32m   8864\u001b[0m \u001b[43m    \u001b[49m\u001b[43mkind\u001b[49m\u001b[38;5;241;43m=\u001b[39;49m\u001b[43mkind\u001b[49m\u001b[43m,\u001b[49m\n\u001b[1;32m   8865\u001b[0m \u001b[43m    \u001b[49m\u001b[43mloffset\u001b[49m\u001b[38;5;241;43m=\u001b[39;49m\u001b[43mloffset\u001b[49m\u001b[43m,\u001b[49m\n\u001b[1;32m   8866\u001b[0m \u001b[43m    \u001b[49m\u001b[43mconvention\u001b[49m\u001b[38;5;241;43m=\u001b[39;49m\u001b[43mconvention\u001b[49m\u001b[43m,\u001b[49m\n\u001b[1;32m   8867\u001b[0m \u001b[43m    \u001b[49m\u001b[43mbase\u001b[49m\u001b[38;5;241;43m=\u001b[39;49m\u001b[43mbase\u001b[49m\u001b[43m,\u001b[49m\n\u001b[1;32m   8868\u001b[0m \u001b[43m    \u001b[49m\u001b[43mkey\u001b[49m\u001b[38;5;241;43m=\u001b[39;49m\u001b[43mon\u001b[49m\u001b[43m,\u001b[49m\n\u001b[1;32m   8869\u001b[0m \u001b[43m    \u001b[49m\u001b[43mlevel\u001b[49m\u001b[38;5;241;43m=\u001b[39;49m\u001b[43mlevel\u001b[49m\u001b[43m,\u001b[49m\n\u001b[1;32m   8870\u001b[0m \u001b[43m    \u001b[49m\u001b[43morigin\u001b[49m\u001b[38;5;241;43m=\u001b[39;49m\u001b[43morigin\u001b[49m\u001b[43m,\u001b[49m\n\u001b[1;32m   8871\u001b[0m \u001b[43m    \u001b[49m\u001b[43moffset\u001b[49m\u001b[38;5;241;43m=\u001b[39;49m\u001b[43moffset\u001b[49m\u001b[43m,\u001b[49m\n\u001b[1;32m   8872\u001b[0m \u001b[43m    \u001b[49m\u001b[43mgroup_keys\u001b[49m\u001b[38;5;241;43m=\u001b[39;49m\u001b[43mgroup_keys\u001b[49m\u001b[43m,\u001b[49m\n\u001b[1;32m   8873\u001b[0m \u001b[43m\u001b[49m\u001b[43m)\u001b[49m\n",
      "File \u001b[0;32m~/miniconda3/lib/python3.10/site-packages/pandas/core/resample.py:1544\u001b[0m, in \u001b[0;36mget_resampler\u001b[0;34m(obj, kind, **kwds)\u001b[0m\n\u001b[1;32m   1540\u001b[0m \u001b[38;5;250m\u001b[39m\u001b[38;5;124;03m\"\"\"\u001b[39;00m\n\u001b[1;32m   1541\u001b[0m \u001b[38;5;124;03mCreate a TimeGrouper and return our resampler.\u001b[39;00m\n\u001b[1;32m   1542\u001b[0m \u001b[38;5;124;03m\"\"\"\u001b[39;00m\n\u001b[1;32m   1543\u001b[0m tg \u001b[38;5;241m=\u001b[39m TimeGrouper(\u001b[38;5;241m*\u001b[39m\u001b[38;5;241m*\u001b[39mkwds)\n\u001b[0;32m-> 1544\u001b[0m \u001b[38;5;28;01mreturn\u001b[39;00m \u001b[43mtg\u001b[49m\u001b[38;5;241;43m.\u001b[39;49m\u001b[43m_get_resampler\u001b[49m\u001b[43m(\u001b[49m\u001b[43mobj\u001b[49m\u001b[43m,\u001b[49m\u001b[43m \u001b[49m\u001b[43mkind\u001b[49m\u001b[38;5;241;43m=\u001b[39;49m\u001b[43mkind\u001b[49m\u001b[43m)\u001b[49m\n",
      "File \u001b[0;32m~/miniconda3/lib/python3.10/site-packages/pandas/core/resample.py:1725\u001b[0m, in \u001b[0;36mTimeGrouper._get_resampler\u001b[0;34m(self, obj, kind)\u001b[0m\n\u001b[1;32m   1720\u001b[0m \u001b[38;5;28;01melif\u001b[39;00m \u001b[38;5;28misinstance\u001b[39m(ax, TimedeltaIndex):\n\u001b[1;32m   1721\u001b[0m     \u001b[38;5;28;01mreturn\u001b[39;00m TimedeltaIndexResampler(\n\u001b[1;32m   1722\u001b[0m         obj, groupby\u001b[38;5;241m=\u001b[39m\u001b[38;5;28mself\u001b[39m, axis\u001b[38;5;241m=\u001b[39m\u001b[38;5;28mself\u001b[39m\u001b[38;5;241m.\u001b[39maxis, group_keys\u001b[38;5;241m=\u001b[39m\u001b[38;5;28mself\u001b[39m\u001b[38;5;241m.\u001b[39mgroup_keys\n\u001b[1;32m   1723\u001b[0m     )\n\u001b[0;32m-> 1725\u001b[0m \u001b[38;5;28;01mraise\u001b[39;00m \u001b[38;5;167;01mTypeError\u001b[39;00m(\n\u001b[1;32m   1726\u001b[0m     \u001b[38;5;124m\"\u001b[39m\u001b[38;5;124mOnly valid with DatetimeIndex, \u001b[39m\u001b[38;5;124m\"\u001b[39m\n\u001b[1;32m   1727\u001b[0m     \u001b[38;5;124m\"\u001b[39m\u001b[38;5;124mTimedeltaIndex or PeriodIndex, \u001b[39m\u001b[38;5;124m\"\u001b[39m\n\u001b[1;32m   1728\u001b[0m     \u001b[38;5;124mf\u001b[39m\u001b[38;5;124m\"\u001b[39m\u001b[38;5;124mbut got an instance of \u001b[39m\u001b[38;5;124m'\u001b[39m\u001b[38;5;132;01m{\u001b[39;00m\u001b[38;5;28mtype\u001b[39m(ax)\u001b[38;5;241m.\u001b[39m\u001b[38;5;18m__name__\u001b[39m\u001b[38;5;132;01m}\u001b[39;00m\u001b[38;5;124m'\u001b[39m\u001b[38;5;124m\"\u001b[39m\n\u001b[1;32m   1729\u001b[0m )\n",
      "\u001b[0;31mTypeError\u001b[0m: Only valid with DatetimeIndex, TimedeltaIndex or PeriodIndex, but got an instance of 'Index'"
     ]
    }
   ],
   "source": [
    "#Create table\n",
    "tickers = []\n",
    "annualized_volatility = []\n",
    "beta_spy = []\n",
    "beta_iwm = []\n",
    "beta_dia = []\n",
    "average_weekly_drawdown = []\n",
    "maximum_weekly_drawdown = []\n",
    "total_return = []\n",
    "total_annualized_return = []\n",
    "for stock in stocks: # This will loop through the 7 stocks to get the data needed\n",
    "    get_df = yf.download(f\"{stock}\")\n",
    "    tickers.append(stock)\n",
    "    annualized_volatility.append(get_annualized_volatility(get_df))\n",
    "    beta_spy.append(beta_against_market(stock, \"SPY\"))\n",
    "    beta_iwm.append(beta_against_market(stock, \"IWM\"))\n",
    "    beta_dia.append(beta_against_market(stock, \"DIA\"))\n",
    "    average_weekly_drawdown.append(get_weekly_drawdowns(get_df)[0])\n",
    "    maximum_weekly_drawdown.append(get_weekly_drawdowns(get_df)[1])\n",
    "    total_return.append(get_total_return(get_df))\n",
    "    total_annualized_return.append(get_total_annualized_return(get_df))"
   ]
  },
  {
   "cell_type": "code",
   "execution_count": 55,
   "id": "faa0fcb4",
   "metadata": {},
   "outputs": [
    {
     "ename": "ValueError",
     "evalue": "All arrays must be of the same length",
     "output_type": "error",
     "traceback": [
      "\u001b[0;31m---------------------------------------------------------------------------\u001b[0m",
      "\u001b[0;31mValueError\u001b[0m                                Traceback (most recent call last)",
      "Cell \u001b[0;32mIn[55], line 6\u001b[0m\n\u001b[1;32m      1\u001b[0m create_table \u001b[38;5;241m=\u001b[39m {\u001b[38;5;124m\"\u001b[39m\u001b[38;5;124mticker\u001b[39m\u001b[38;5;124m\"\u001b[39m : tickers, \u001b[38;5;124m\"\u001b[39m\u001b[38;5;124mportfolio weight\u001b[39m\u001b[38;5;124m\"\u001b[39m: portfolio_weight, \n\u001b[1;32m      2\u001b[0m                 \u001b[38;5;124m\"\u001b[39m\u001b[38;5;124mannualized volatility\u001b[39m\u001b[38;5;124m\"\u001b[39m : annualized_volatility, \u001b[38;5;124m\"\u001b[39m\u001b[38;5;124mbeta spy\u001b[39m\u001b[38;5;124m\"\u001b[39m : beta_spy,\n\u001b[1;32m      3\u001b[0m                \u001b[38;5;124m\"\u001b[39m\u001b[38;5;124mbeta iwm\u001b[39m\u001b[38;5;124m\"\u001b[39m: beta_iwm, \u001b[38;5;124m\"\u001b[39m\u001b[38;5;124mbeta dia\u001b[39m\u001b[38;5;124m\"\u001b[39m: beta_dia, \u001b[38;5;124m\"\u001b[39m\u001b[38;5;124maverage weekly drawdown\u001b[39m\u001b[38;5;124m\"\u001b[39m: average_weekly_drawdown,\n\u001b[1;32m      4\u001b[0m                \u001b[38;5;124m\"\u001b[39m\u001b[38;5;124mmaximum weekly drawdown\u001b[39m\u001b[38;5;124m\"\u001b[39m: maximum_weekly_drawdown, \u001b[38;5;124m\"\u001b[39m\u001b[38;5;124mtotal return\u001b[39m\u001b[38;5;124m\"\u001b[39m : total_return, \n\u001b[1;32m      5\u001b[0m                \u001b[38;5;124m\"\u001b[39m\u001b[38;5;124mtotal annualized return\u001b[39m\u001b[38;5;124m\"\u001b[39m : total_annualized_return}\n\u001b[0;32m----> 6\u001b[0m create_dataframe \u001b[38;5;241m=\u001b[39m \u001b[43mpd\u001b[49m\u001b[38;5;241;43m.\u001b[39;49m\u001b[43mDataFrame\u001b[49m\u001b[43m(\u001b[49m\u001b[43mcreate_table\u001b[49m\u001b[43m)\u001b[49m\n",
      "File \u001b[0;32m~/miniconda3/lib/python3.10/site-packages/pandas/core/frame.py:664\u001b[0m, in \u001b[0;36mDataFrame.__init__\u001b[0;34m(self, data, index, columns, dtype, copy)\u001b[0m\n\u001b[1;32m    658\u001b[0m     mgr \u001b[38;5;241m=\u001b[39m \u001b[38;5;28mself\u001b[39m\u001b[38;5;241m.\u001b[39m_init_mgr(\n\u001b[1;32m    659\u001b[0m         data, axes\u001b[38;5;241m=\u001b[39m{\u001b[38;5;124m\"\u001b[39m\u001b[38;5;124mindex\u001b[39m\u001b[38;5;124m\"\u001b[39m: index, \u001b[38;5;124m\"\u001b[39m\u001b[38;5;124mcolumns\u001b[39m\u001b[38;5;124m\"\u001b[39m: columns}, dtype\u001b[38;5;241m=\u001b[39mdtype, copy\u001b[38;5;241m=\u001b[39mcopy\n\u001b[1;32m    660\u001b[0m     )\n\u001b[1;32m    662\u001b[0m \u001b[38;5;28;01melif\u001b[39;00m \u001b[38;5;28misinstance\u001b[39m(data, \u001b[38;5;28mdict\u001b[39m):\n\u001b[1;32m    663\u001b[0m     \u001b[38;5;66;03m# GH#38939 de facto copy defaults to False only in non-dict cases\u001b[39;00m\n\u001b[0;32m--> 664\u001b[0m     mgr \u001b[38;5;241m=\u001b[39m \u001b[43mdict_to_mgr\u001b[49m\u001b[43m(\u001b[49m\u001b[43mdata\u001b[49m\u001b[43m,\u001b[49m\u001b[43m \u001b[49m\u001b[43mindex\u001b[49m\u001b[43m,\u001b[49m\u001b[43m \u001b[49m\u001b[43mcolumns\u001b[49m\u001b[43m,\u001b[49m\u001b[43m \u001b[49m\u001b[43mdtype\u001b[49m\u001b[38;5;241;43m=\u001b[39;49m\u001b[43mdtype\u001b[49m\u001b[43m,\u001b[49m\u001b[43m \u001b[49m\u001b[43mcopy\u001b[49m\u001b[38;5;241;43m=\u001b[39;49m\u001b[43mcopy\u001b[49m\u001b[43m,\u001b[49m\u001b[43m \u001b[49m\u001b[43mtyp\u001b[49m\u001b[38;5;241;43m=\u001b[39;49m\u001b[43mmanager\u001b[49m\u001b[43m)\u001b[49m\n\u001b[1;32m    665\u001b[0m \u001b[38;5;28;01melif\u001b[39;00m \u001b[38;5;28misinstance\u001b[39m(data, ma\u001b[38;5;241m.\u001b[39mMaskedArray):\n\u001b[1;32m    666\u001b[0m     \u001b[38;5;28;01mimport\u001b[39;00m \u001b[38;5;21;01mnumpy\u001b[39;00m\u001b[38;5;21;01m.\u001b[39;00m\u001b[38;5;21;01mma\u001b[39;00m\u001b[38;5;21;01m.\u001b[39;00m\u001b[38;5;21;01mmrecords\u001b[39;00m \u001b[38;5;28;01mas\u001b[39;00m \u001b[38;5;21;01mmrecords\u001b[39;00m\n",
      "File \u001b[0;32m~/miniconda3/lib/python3.10/site-packages/pandas/core/internals/construction.py:493\u001b[0m, in \u001b[0;36mdict_to_mgr\u001b[0;34m(data, index, columns, dtype, typ, copy)\u001b[0m\n\u001b[1;32m    489\u001b[0m     \u001b[38;5;28;01melse\u001b[39;00m:\n\u001b[1;32m    490\u001b[0m         \u001b[38;5;66;03m# dtype check to exclude e.g. range objects, scalars\u001b[39;00m\n\u001b[1;32m    491\u001b[0m         arrays \u001b[38;5;241m=\u001b[39m [x\u001b[38;5;241m.\u001b[39mcopy() \u001b[38;5;28;01mif\u001b[39;00m \u001b[38;5;28mhasattr\u001b[39m(x, \u001b[38;5;124m\"\u001b[39m\u001b[38;5;124mdtype\u001b[39m\u001b[38;5;124m\"\u001b[39m) \u001b[38;5;28;01melse\u001b[39;00m x \u001b[38;5;28;01mfor\u001b[39;00m x \u001b[38;5;129;01min\u001b[39;00m arrays]\n\u001b[0;32m--> 493\u001b[0m \u001b[38;5;28;01mreturn\u001b[39;00m \u001b[43marrays_to_mgr\u001b[49m\u001b[43m(\u001b[49m\u001b[43marrays\u001b[49m\u001b[43m,\u001b[49m\u001b[43m \u001b[49m\u001b[43mcolumns\u001b[49m\u001b[43m,\u001b[49m\u001b[43m \u001b[49m\u001b[43mindex\u001b[49m\u001b[43m,\u001b[49m\u001b[43m \u001b[49m\u001b[43mdtype\u001b[49m\u001b[38;5;241;43m=\u001b[39;49m\u001b[43mdtype\u001b[49m\u001b[43m,\u001b[49m\u001b[43m \u001b[49m\u001b[43mtyp\u001b[49m\u001b[38;5;241;43m=\u001b[39;49m\u001b[43mtyp\u001b[49m\u001b[43m,\u001b[49m\u001b[43m \u001b[49m\u001b[43mconsolidate\u001b[49m\u001b[38;5;241;43m=\u001b[39;49m\u001b[43mcopy\u001b[49m\u001b[43m)\u001b[49m\n",
      "File \u001b[0;32m~/miniconda3/lib/python3.10/site-packages/pandas/core/internals/construction.py:118\u001b[0m, in \u001b[0;36marrays_to_mgr\u001b[0;34m(arrays, columns, index, dtype, verify_integrity, typ, consolidate)\u001b[0m\n\u001b[1;32m    115\u001b[0m \u001b[38;5;28;01mif\u001b[39;00m verify_integrity:\n\u001b[1;32m    116\u001b[0m     \u001b[38;5;66;03m# figure out the index, if necessary\u001b[39;00m\n\u001b[1;32m    117\u001b[0m     \u001b[38;5;28;01mif\u001b[39;00m index \u001b[38;5;129;01mis\u001b[39;00m \u001b[38;5;28;01mNone\u001b[39;00m:\n\u001b[0;32m--> 118\u001b[0m         index \u001b[38;5;241m=\u001b[39m \u001b[43m_extract_index\u001b[49m\u001b[43m(\u001b[49m\u001b[43marrays\u001b[49m\u001b[43m)\u001b[49m\n\u001b[1;32m    119\u001b[0m     \u001b[38;5;28;01melse\u001b[39;00m:\n\u001b[1;32m    120\u001b[0m         index \u001b[38;5;241m=\u001b[39m ensure_index(index)\n",
      "File \u001b[0;32m~/miniconda3/lib/python3.10/site-packages/pandas/core/internals/construction.py:666\u001b[0m, in \u001b[0;36m_extract_index\u001b[0;34m(data)\u001b[0m\n\u001b[1;32m    664\u001b[0m lengths \u001b[38;5;241m=\u001b[39m \u001b[38;5;28mlist\u001b[39m(\u001b[38;5;28mset\u001b[39m(raw_lengths))\n\u001b[1;32m    665\u001b[0m \u001b[38;5;28;01mif\u001b[39;00m \u001b[38;5;28mlen\u001b[39m(lengths) \u001b[38;5;241m>\u001b[39m \u001b[38;5;241m1\u001b[39m:\n\u001b[0;32m--> 666\u001b[0m     \u001b[38;5;28;01mraise\u001b[39;00m \u001b[38;5;167;01mValueError\u001b[39;00m(\u001b[38;5;124m\"\u001b[39m\u001b[38;5;124mAll arrays must be of the same length\u001b[39m\u001b[38;5;124m\"\u001b[39m)\n\u001b[1;32m    668\u001b[0m \u001b[38;5;28;01mif\u001b[39;00m have_dicts:\n\u001b[1;32m    669\u001b[0m     \u001b[38;5;28;01mraise\u001b[39;00m \u001b[38;5;167;01mValueError\u001b[39;00m(\n\u001b[1;32m    670\u001b[0m         \u001b[38;5;124m\"\u001b[39m\u001b[38;5;124mMixing dicts with non-Series may lead to ambiguous ordering.\u001b[39m\u001b[38;5;124m\"\u001b[39m\n\u001b[1;32m    671\u001b[0m     )\n",
      "\u001b[0;31mValueError\u001b[0m: All arrays must be of the same length"
     ]
    }
   ],
   "source": [
    "create_table = {\"ticker\" : tickers, \"portfolio weight\": portfolio_weight, \n",
    "                \"annualized volatility\" : annualized_volatility, \"beta spy\" : beta_spy,\n",
    "               \"beta iwm\": beta_iwm, \"beta dia\": beta_dia, \"average weekly drawdown\": average_weekly_drawdown,\n",
    "               \"maximum weekly drawdown\": maximum_weekly_drawdown, \"total return\" : total_return, \n",
    "               \"total annualized return\" : total_annualized_return}\n",
    "create_dataframe = pd.DataFrame(create_table)"
   ]
  },
  {
   "cell_type": "code",
   "execution_count": 42,
   "id": "4cbdb482",
   "metadata": {},
   "outputs": [
    {
     "ename": "NameError",
     "evalue": "name 'create_dataframe' is not defined",
     "output_type": "error",
     "traceback": [
      "\u001b[0;31m---------------------------------------------------------------------------\u001b[0m",
      "\u001b[0;31mNameError\u001b[0m                                 Traceback (most recent call last)",
      "Cell \u001b[0;32mIn[42], line 1\u001b[0m\n\u001b[0;32m----> 1\u001b[0m table_one \u001b[38;5;241m=\u001b[39m \u001b[43mcreate_dataframe\u001b[49m\n\u001b[1;32m      2\u001b[0m table_one\n",
      "\u001b[0;31mNameError\u001b[0m: name 'create_dataframe' is not defined"
     ]
    }
   ],
   "source": [
    "table_one = create_dataframe\n",
    "table_one"
   ]
  },
  {
   "cell_type": "code",
   "execution_count": 28,
   "id": "b60e2c97",
   "metadata": {},
   "outputs": [
    {
     "ename": "NameError",
     "evalue": "name 'portfolio_rets_df' is not defined",
     "output_type": "error",
     "traceback": [
      "\u001b[0;31m---------------------------------------------------------------------------\u001b[0m",
      "\u001b[0;31mNameError\u001b[0m                                 Traceback (most recent call last)",
      "Cell \u001b[0;32mIn[28], line 1\u001b[0m\n\u001b[0;32m----> 1\u001b[0m \u001b[43mportfolio_rets_df\u001b[49m\u001b[38;5;241m.\u001b[39mcolumns \u001b[38;5;241m=\u001b[39m [\u001b[38;5;124m\"\u001b[39m\u001b[38;5;124mportfolio_rets\u001b[39m\u001b[38;5;124m\"\u001b[39m, \u001b[38;5;124m\"\u001b[39m\u001b[38;5;124mdaily_spy_rets\u001b[39m\u001b[38;5;124m\"\u001b[39m]\n",
      "\u001b[0;31mNameError\u001b[0m: name 'portfolio_rets_df' is not defined"
     ]
    }
   ],
   "source": [
    "portfolio_rets_df.columns = [\"portfolio_rets\", \"daily_spy_rets\"]"
   ]
  },
  {
   "cell_type": "code",
   "execution_count": 29,
   "id": "536927ad",
   "metadata": {},
   "outputs": [
    {
     "ename": "NameError",
     "evalue": "name 'portfolio_rets_df' is not defined",
     "output_type": "error",
     "traceback": [
      "\u001b[0;31m---------------------------------------------------------------------------\u001b[0m",
      "\u001b[0;31mNameError\u001b[0m                                 Traceback (most recent call last)",
      "Cell \u001b[0;32mIn[29], line 1\u001b[0m\n\u001b[0;32m----> 1\u001b[0m portfolio_rets_df[\u001b[38;5;124m\"\u001b[39m\u001b[38;5;124mP - B\u001b[39m\u001b[38;5;124m\"\u001b[39m] \u001b[38;5;241m=\u001b[39m \u001b[43mportfolio_rets_df\u001b[49m[\u001b[38;5;124m\"\u001b[39m\u001b[38;5;124mportfolio_rets\u001b[39m\u001b[38;5;124m\"\u001b[39m] \u001b[38;5;241m-\u001b[39m portfolio_rets_df[\u001b[38;5;124m\"\u001b[39m\u001b[38;5;124mdaily_spy_rets\u001b[39m\u001b[38;5;124m\"\u001b[39m]\n",
      "\u001b[0;31mNameError\u001b[0m: name 'portfolio_rets_df' is not defined"
     ]
    }
   ],
   "source": [
    "portfolio_rets_df[\"P - B\"] = portfolio_rets_df[\"portfolio_rets\"] - portfolio_rets_df[\"daily_spy_rets\"]"
   ]
  },
  {
   "cell_type": "code",
   "execution_count": 30,
   "id": "1aacc2d4",
   "metadata": {},
   "outputs": [
    {
     "ename": "NameError",
     "evalue": "name 'portfolio_rets_df' is not defined",
     "output_type": "error",
     "traceback": [
      "\u001b[0;31m---------------------------------------------------------------------------\u001b[0m",
      "\u001b[0;31mNameError\u001b[0m                                 Traceback (most recent call last)",
      "Cell \u001b[0;32mIn[30], line 1\u001b[0m\n\u001b[0;32m----> 1\u001b[0m tracking_error \u001b[38;5;241m=\u001b[39m \u001b[43mportfolio_rets_df\u001b[49m[\u001b[38;5;124m\"\u001b[39m\u001b[38;5;124mP - B\u001b[39m\u001b[38;5;124m\"\u001b[39m]\u001b[38;5;241m.\u001b[39mstd()\n",
      "\u001b[0;31mNameError\u001b[0m: name 'portfolio_rets_df' is not defined"
     ]
    }
   ],
   "source": [
    "tracking_error = portfolio_rets_df[\"P - B\"].std()"
   ]
  },
  {
   "cell_type": "code",
   "execution_count": 31,
   "id": "9f9e5726",
   "metadata": {},
   "outputs": [
    {
     "name": "stdout",
     "output_type": "stream",
     "text": [
      "[*********************100%***********************]  7 of 7 completed\n"
     ]
    }
   ],
   "source": [
    "#Prepare annual data for sharpe ratio\n",
    "get_stock_data = yf.download(stocks)[\"Adj Close\"]\n",
    "get_stock_data.dropna(inplace=True)\n",
    "data_resampled = get_stock_data.resample(\"Y\").asfreq()\n",
    "data_resampled.dropna(inplace=True)\n",
    "\n",
    "\n",
    "annual_pct_change = data_resampled.pct_change()[1:] \n",
    "weighted_annual_rets = annual_pct_change * portfolio_weight\n",
    "portfolio_annual_rets = weighted_annual_rets.sum(axis=1)\n",
    "\n",
    "#Compute Sharpe Ratio\n",
    "expected_portfolio_return = portfolio_annual_rets.mean()\n",
    "portfolio_std = portfolio_annual_rets.std()\n",
    "risk_free_rate = 0.0471 # 3-Months T-bill current interest\n",
    "\n",
    "\n",
    "sharpe_ratio = (expected_portfolio_return - risk_free_rate) / portfolio_std"
   ]
  },
  {
   "cell_type": "code",
   "execution_count": 32,
   "id": "5aca609e",
   "metadata": {},
   "outputs": [
    {
     "name": "stdout",
     "output_type": "stream",
     "text": [
      "[*********************100%***********************]  7 of 7 completed\n"
     ]
    }
   ],
   "source": [
    "#Annualized Volatility spread (Portfilio Volatility - ETF Volatility)\n",
    "dataframe = yf.download(stocks)[\"Adj Close\"]\n",
    "dataframe.dropna(inplace=True)\n",
    "dataframe_resampled = dataframe.resample(\"252D\").asfreq() # Resample every 252 days\n",
    "dataframe_resampled.dropna(inplace=True)"
   ]
  },
  {
   "cell_type": "code",
   "execution_count": 33,
   "id": "aafaf1a3",
   "metadata": {},
   "outputs": [],
   "source": [
    "dataframe_pct_change = dataframe_resampled.pct_change()[1:]"
   ]
  },
  {
   "cell_type": "code",
   "execution_count": 34,
   "id": "1379724d",
   "metadata": {},
   "outputs": [],
   "source": [
    "portfolio_ret_252d = dataframe_pct_change * portfolio_weight\n",
    "final_return_252d = portfolio_ret_252d.sum(axis=1)"
   ]
  },
  {
   "cell_type": "code",
   "execution_count": 35,
   "id": "182689d2",
   "metadata": {},
   "outputs": [
    {
     "data": {
      "text/plain": [
       "0.5831557540390717"
      ]
     },
     "execution_count": 35,
     "metadata": {},
     "output_type": "execute_result"
    }
   ],
   "source": [
    "final_return_252d.std()"
   ]
  },
  {
   "cell_type": "code",
   "execution_count": 36,
   "id": "267dee59",
   "metadata": {},
   "outputs": [
    {
     "name": "stdout",
     "output_type": "stream",
     "text": [
      "[*********************100%***********************]  1 of 1 completed\n"
     ]
    },
    {
     "data": {
      "text/plain": [
       "0.13048275728613765"
      ]
     },
     "execution_count": 36,
     "metadata": {},
     "output_type": "execute_result"
    }
   ],
   "source": [
    "etf_volatility = yf.download(\"SPY\")[\"Adj Close\"]\n",
    "resample_etf_252 = etf_volatility.resample(\"252D\").asfreq()\n",
    "resample_etf_252.pct_change()[1:].std()\n"
   ]
  },
  {
   "cell_type": "code",
   "execution_count": 37,
   "id": "3fd58f38",
   "metadata": {},
   "outputs": [],
   "source": [
    "def get_corr_against_etf(data):\n",
    "    return data.corr().iloc[0, 1]\n",
    "\n",
    "def get_cov_against_etf(data):\n",
    "    return data.corr().iloc[0, 1]\n",
    "\n",
    "def get_tracking_error(data):\n",
    "    data[\"P - B\"] = data[\"portfolio_rets\"] - data[\"daily_etf_rets\"]\n",
    "    return data[\"P - B\"].std()\n",
    "\n",
    "def get_volatility_spread(stock_data, etf):\n",
    "    stock_data_resampled = stock_data.resample(\"252D\").asfreq()\n",
    "    stock_data_resampled.dropna(inplace=True)\n",
    "    stock_data_pct = stock_data_resampled.pct_change()[1:]\n",
    "    portfolio_ret_252d = stock_data_pct * portfolio_weight\n",
    "    final_return_252d = portfolio_ret_252d.sum(axis=1)\n",
    "    portfolio_volatility = final_return_252d.std()\n",
    "    get_etf = yf.download(etf)[\"Adj Close\"].pct_change()[1:]\n",
    "    etf_volatility = get_etf.std()\n",
    "    return portfolio_volatility - etf_volatility"
   ]
  },
  {
   "cell_type": "code",
   "execution_count": 38,
   "id": "dc74a75d",
   "metadata": {},
   "outputs": [
    {
     "name": "stdout",
     "output_type": "stream",
     "text": [
      "[*********************100%***********************]  7 of 7 completed\n",
      "[*********************100%***********************]  1 of 1 completed\n",
      "[*********************100%***********************]  1 of 1 completed\n",
      "[*********************100%***********************]  7 of 7 completed\n",
      "[*********************100%***********************]  1 of 1 completed\n",
      "[*********************100%***********************]  1 of 1 completed\n",
      "[*********************100%***********************]  7 of 7 completed\n",
      "[*********************100%***********************]  1 of 1 completed\n",
      "[*********************100%***********************]  1 of 1 completed\n"
     ]
    }
   ],
   "source": [
    "etf_tickers = [\"SPY\", \"IWM\", \"DIA\"]\n",
    "\n",
    "correlations = []\n",
    "covariances = []\n",
    "sharpe_ratios = [sharpe_ratio]*3\n",
    "tracking_errors = []\n",
    "volatility_spreads = []\n",
    "\n",
    "\n",
    "for ticker in etf_tickers:\n",
    "    # To get correlation of portfolio against ETF we first need to get daily returns of portfolio\n",
    "    stock_data = yf.download(stocks)[\"Adj Close\"]\n",
    "    stock_data.dropna(inplace=True)\n",
    "    \n",
    "    weighted_rets = (portfolio_weight * stock_data) #stock * weight = portfolio_return accross all 7 stocks \n",
    "    portfolio_rets = weighted_rets.sum(axis=1) #https://www.codingfinance.com/post/2018-04-05-portfolio-returns-py/\n",
    "    \n",
    "    \n",
    "    etf = yf.download(ticker, start=\"2010-06-29\")[\"Adj Close\"]\n",
    "    etf_pct_change = etf.pct_change()[1:]\n",
    "    portfolio_rets_df = pd.DataFrame(portfolio_rets) #convert type series to dataframe\n",
    "    portfolio_rets_df[\"daily_etf_rets\"] = etf_pct_change\n",
    "    portfolio_rets_df.columns = [\"portfolio_rets\", \"daily_etf_rets\"]\n",
    "    correlations.append(get_corr_against_etf(portfolio_rets_df))\n",
    "    covariances.append(get_cov_against_etf(portfolio_rets_df))\n",
    "    tracking_errors.append(get_tracking_error(portfolio_rets_df))\n",
    "    volatility_spreads.append(get_volatility_spread(stock_data, ticker))"
   ]
  },
  {
   "cell_type": "code",
   "execution_count": 39,
   "id": "16f705d8",
   "metadata": {},
   "outputs": [],
   "source": [
    "table_two = {\"tickers\": etf_tickers, \"correlation\" : correlations, \"covariances\": covariances, \n",
    "             \"sharpe_ratio\": sharpe_ratios, \"tracking error\": tracking_errors, \n",
    "             \"annualized_volatility_spread\": volatility_spreads}\n",
    "table_two = pd.DataFrame(table_two)"
   ]
  },
  {
   "cell_type": "code",
   "execution_count": 40,
   "id": "920d4ad8",
   "metadata": {},
   "outputs": [
    {
     "data": {
      "text/html": [
       "<div>\n",
       "<style scoped>\n",
       "    .dataframe tbody tr th:only-of-type {\n",
       "        vertical-align: middle;\n",
       "    }\n",
       "\n",
       "    .dataframe tbody tr th {\n",
       "        vertical-align: top;\n",
       "    }\n",
       "\n",
       "    .dataframe thead th {\n",
       "        text-align: right;\n",
       "    }\n",
       "</style>\n",
       "<table border=\"1\" class=\"dataframe\">\n",
       "  <thead>\n",
       "    <tr style=\"text-align: right;\">\n",
       "      <th></th>\n",
       "      <th>tickers</th>\n",
       "      <th>correlation</th>\n",
       "      <th>covariances</th>\n",
       "      <th>sharpe_ratio</th>\n",
       "      <th>tracking error</th>\n",
       "      <th>annualized_volatility_spread</th>\n",
       "    </tr>\n",
       "  </thead>\n",
       "  <tbody>\n",
       "    <tr>\n",
       "      <th>0</th>\n",
       "      <td>SPY</td>\n",
       "      <td>0.002256</td>\n",
       "      <td>0.002256</td>\n",
       "      <td>1.107072</td>\n",
       "      <td>69.370920</td>\n",
       "      <td>0.571240</td>\n",
       "    </tr>\n",
       "    <tr>\n",
       "      <th>1</th>\n",
       "      <td>IWM</td>\n",
       "      <td>-0.002863</td>\n",
       "      <td>-0.002863</td>\n",
       "      <td>1.107072</td>\n",
       "      <td>69.370986</td>\n",
       "      <td>0.567864</td>\n",
       "    </tr>\n",
       "    <tr>\n",
       "      <th>2</th>\n",
       "      <td>DIA</td>\n",
       "      <td>-0.000663</td>\n",
       "      <td>-0.000663</td>\n",
       "      <td>1.107072</td>\n",
       "      <td>69.370952</td>\n",
       "      <td>0.571114</td>\n",
       "    </tr>\n",
       "  </tbody>\n",
       "</table>\n",
       "</div>"
      ],
      "text/plain": [
       "  tickers  correlation  covariances  sharpe_ratio  tracking error  \\\n",
       "0     SPY     0.002256     0.002256      1.107072       69.370920   \n",
       "1     IWM    -0.002863    -0.002863      1.107072       69.370986   \n",
       "2     DIA    -0.000663    -0.000663      1.107072       69.370952   \n",
       "\n",
       "   annualized_volatility_spread  \n",
       "0                      0.571240  \n",
       "1                      0.567864  \n",
       "2                      0.571114  "
      ]
     },
     "execution_count": 40,
     "metadata": {},
     "output_type": "execute_result"
    }
   ],
   "source": [
    "table_two"
   ]
  },
  {
   "cell_type": "code",
   "execution_count": null,
   "id": "5879f21d",
   "metadata": {},
   "outputs": [],
   "source": []
  },
  {
   "cell_type": "code",
   "execution_count": null,
   "id": "a3b3e57d",
   "metadata": {},
   "outputs": [],
   "source": []
  },
  {
   "cell_type": "code",
   "execution_count": null,
   "id": "988ec56a",
   "metadata": {},
   "outputs": [],
   "source": []
  }
 ],
 "metadata": {
  "kernelspec": {
   "display_name": "Python 3 (ipykernel)",
   "language": "python",
   "name": "python3"
  },
  "language_info": {
   "codemirror_mode": {
    "name": "ipython",
    "version": 3
   },
   "file_extension": ".py",
   "mimetype": "text/x-python",
   "name": "python",
   "nbconvert_exporter": "python",
   "pygments_lexer": "ipython3",
   "version": "3.10.9"
  }
 },
 "nbformat": 4,
 "nbformat_minor": 5
}
